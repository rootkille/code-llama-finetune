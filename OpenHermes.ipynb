{
  "nbformat": 4,
  "nbformat_minor": 0,
  "metadata": {
    "colab": {
      "provenance": [],
      "gpuType": "T4",
      "authorship_tag": "ABX9TyP/itbbeL8DR8gEBnn2LIpu",
      "include_colab_link": true
    },
    "kernelspec": {
      "name": "python3",
      "display_name": "Python 3"
    },
    "language_info": {
      "name": "python"
    },
    "accelerator": "GPU",
    "widgets": {
      "application/vnd.jupyter.widget-state+json": {
        "b8c9fa8df777471990999c161c6cdcbc": {
          "model_module": "@jupyter-widgets/controls",
          "model_name": "HBoxModel",
          "model_module_version": "1.5.0",
          "state": {
            "_dom_classes": [],
            "_model_module": "@jupyter-widgets/controls",
            "_model_module_version": "1.5.0",
            "_model_name": "HBoxModel",
            "_view_count": null,
            "_view_module": "@jupyter-widgets/controls",
            "_view_module_version": "1.5.0",
            "_view_name": "HBoxView",
            "box_style": "",
            "children": [
              "IPY_MODEL_40ed94fd534a475bb855a02dad671430",
              "IPY_MODEL_ee10d2ef885540a380277aeb06f0c8ef",
              "IPY_MODEL_d7905b465fb745d38f185ad756211096"
            ],
            "layout": "IPY_MODEL_d34a4e2845f045bf926548170617e918"
          }
        },
        "40ed94fd534a475bb855a02dad671430": {
          "model_module": "@jupyter-widgets/controls",
          "model_name": "HTMLModel",
          "model_module_version": "1.5.0",
          "state": {
            "_dom_classes": [],
            "_model_module": "@jupyter-widgets/controls",
            "_model_module_version": "1.5.0",
            "_model_name": "HTMLModel",
            "_view_count": null,
            "_view_module": "@jupyter-widgets/controls",
            "_view_module_version": "1.5.0",
            "_view_name": "HTMLView",
            "description": "",
            "description_tooltip": null,
            "layout": "IPY_MODEL_8bd32598154c406ca6239927b09e6097",
            "placeholder": "​",
            "style": "IPY_MODEL_c356dd310789456e97c1b93b71ee4873",
            "value": "Loading checkpoint shards: 100%"
          }
        },
        "ee10d2ef885540a380277aeb06f0c8ef": {
          "model_module": "@jupyter-widgets/controls",
          "model_name": "FloatProgressModel",
          "model_module_version": "1.5.0",
          "state": {
            "_dom_classes": [],
            "_model_module": "@jupyter-widgets/controls",
            "_model_module_version": "1.5.0",
            "_model_name": "FloatProgressModel",
            "_view_count": null,
            "_view_module": "@jupyter-widgets/controls",
            "_view_module_version": "1.5.0",
            "_view_name": "ProgressView",
            "bar_style": "success",
            "description": "",
            "description_tooltip": null,
            "layout": "IPY_MODEL_9e6f2ca2d09145c5a5bc86e95d9411ae",
            "max": 2,
            "min": 0,
            "orientation": "horizontal",
            "style": "IPY_MODEL_3418665373a94acbafacea9c1586b4d3",
            "value": 2
          }
        },
        "d7905b465fb745d38f185ad756211096": {
          "model_module": "@jupyter-widgets/controls",
          "model_name": "HTMLModel",
          "model_module_version": "1.5.0",
          "state": {
            "_dom_classes": [],
            "_model_module": "@jupyter-widgets/controls",
            "_model_module_version": "1.5.0",
            "_model_name": "HTMLModel",
            "_view_count": null,
            "_view_module": "@jupyter-widgets/controls",
            "_view_module_version": "1.5.0",
            "_view_name": "HTMLView",
            "description": "",
            "description_tooltip": null,
            "layout": "IPY_MODEL_df9ade2702504cc5a913cdbc1ed779d0",
            "placeholder": "​",
            "style": "IPY_MODEL_f487efeffe4e40aa88cea6f96198b2f3",
            "value": " 2/2 [01:14&lt;00:00, 34.88s/it]"
          }
        },
        "d34a4e2845f045bf926548170617e918": {
          "model_module": "@jupyter-widgets/base",
          "model_name": "LayoutModel",
          "model_module_version": "1.2.0",
          "state": {
            "_model_module": "@jupyter-widgets/base",
            "_model_module_version": "1.2.0",
            "_model_name": "LayoutModel",
            "_view_count": null,
            "_view_module": "@jupyter-widgets/base",
            "_view_module_version": "1.2.0",
            "_view_name": "LayoutView",
            "align_content": null,
            "align_items": null,
            "align_self": null,
            "border": null,
            "bottom": null,
            "display": null,
            "flex": null,
            "flex_flow": null,
            "grid_area": null,
            "grid_auto_columns": null,
            "grid_auto_flow": null,
            "grid_auto_rows": null,
            "grid_column": null,
            "grid_gap": null,
            "grid_row": null,
            "grid_template_areas": null,
            "grid_template_columns": null,
            "grid_template_rows": null,
            "height": null,
            "justify_content": null,
            "justify_items": null,
            "left": null,
            "margin": null,
            "max_height": null,
            "max_width": null,
            "min_height": null,
            "min_width": null,
            "object_fit": null,
            "object_position": null,
            "order": null,
            "overflow": null,
            "overflow_x": null,
            "overflow_y": null,
            "padding": null,
            "right": null,
            "top": null,
            "visibility": null,
            "width": null
          }
        },
        "8bd32598154c406ca6239927b09e6097": {
          "model_module": "@jupyter-widgets/base",
          "model_name": "LayoutModel",
          "model_module_version": "1.2.0",
          "state": {
            "_model_module": "@jupyter-widgets/base",
            "_model_module_version": "1.2.0",
            "_model_name": "LayoutModel",
            "_view_count": null,
            "_view_module": "@jupyter-widgets/base",
            "_view_module_version": "1.2.0",
            "_view_name": "LayoutView",
            "align_content": null,
            "align_items": null,
            "align_self": null,
            "border": null,
            "bottom": null,
            "display": null,
            "flex": null,
            "flex_flow": null,
            "grid_area": null,
            "grid_auto_columns": null,
            "grid_auto_flow": null,
            "grid_auto_rows": null,
            "grid_column": null,
            "grid_gap": null,
            "grid_row": null,
            "grid_template_areas": null,
            "grid_template_columns": null,
            "grid_template_rows": null,
            "height": null,
            "justify_content": null,
            "justify_items": null,
            "left": null,
            "margin": null,
            "max_height": null,
            "max_width": null,
            "min_height": null,
            "min_width": null,
            "object_fit": null,
            "object_position": null,
            "order": null,
            "overflow": null,
            "overflow_x": null,
            "overflow_y": null,
            "padding": null,
            "right": null,
            "top": null,
            "visibility": null,
            "width": null
          }
        },
        "c356dd310789456e97c1b93b71ee4873": {
          "model_module": "@jupyter-widgets/controls",
          "model_name": "DescriptionStyleModel",
          "model_module_version": "1.5.0",
          "state": {
            "_model_module": "@jupyter-widgets/controls",
            "_model_module_version": "1.5.0",
            "_model_name": "DescriptionStyleModel",
            "_view_count": null,
            "_view_module": "@jupyter-widgets/base",
            "_view_module_version": "1.2.0",
            "_view_name": "StyleView",
            "description_width": ""
          }
        },
        "9e6f2ca2d09145c5a5bc86e95d9411ae": {
          "model_module": "@jupyter-widgets/base",
          "model_name": "LayoutModel",
          "model_module_version": "1.2.0",
          "state": {
            "_model_module": "@jupyter-widgets/base",
            "_model_module_version": "1.2.0",
            "_model_name": "LayoutModel",
            "_view_count": null,
            "_view_module": "@jupyter-widgets/base",
            "_view_module_version": "1.2.0",
            "_view_name": "LayoutView",
            "align_content": null,
            "align_items": null,
            "align_self": null,
            "border": null,
            "bottom": null,
            "display": null,
            "flex": null,
            "flex_flow": null,
            "grid_area": null,
            "grid_auto_columns": null,
            "grid_auto_flow": null,
            "grid_auto_rows": null,
            "grid_column": null,
            "grid_gap": null,
            "grid_row": null,
            "grid_template_areas": null,
            "grid_template_columns": null,
            "grid_template_rows": null,
            "height": null,
            "justify_content": null,
            "justify_items": null,
            "left": null,
            "margin": null,
            "max_height": null,
            "max_width": null,
            "min_height": null,
            "min_width": null,
            "object_fit": null,
            "object_position": null,
            "order": null,
            "overflow": null,
            "overflow_x": null,
            "overflow_y": null,
            "padding": null,
            "right": null,
            "top": null,
            "visibility": null,
            "width": null
          }
        },
        "3418665373a94acbafacea9c1586b4d3": {
          "model_module": "@jupyter-widgets/controls",
          "model_name": "ProgressStyleModel",
          "model_module_version": "1.5.0",
          "state": {
            "_model_module": "@jupyter-widgets/controls",
            "_model_module_version": "1.5.0",
            "_model_name": "ProgressStyleModel",
            "_view_count": null,
            "_view_module": "@jupyter-widgets/base",
            "_view_module_version": "1.2.0",
            "_view_name": "StyleView",
            "bar_color": null,
            "description_width": ""
          }
        },
        "df9ade2702504cc5a913cdbc1ed779d0": {
          "model_module": "@jupyter-widgets/base",
          "model_name": "LayoutModel",
          "model_module_version": "1.2.0",
          "state": {
            "_model_module": "@jupyter-widgets/base",
            "_model_module_version": "1.2.0",
            "_model_name": "LayoutModel",
            "_view_count": null,
            "_view_module": "@jupyter-widgets/base",
            "_view_module_version": "1.2.0",
            "_view_name": "LayoutView",
            "align_content": null,
            "align_items": null,
            "align_self": null,
            "border": null,
            "bottom": null,
            "display": null,
            "flex": null,
            "flex_flow": null,
            "grid_area": null,
            "grid_auto_columns": null,
            "grid_auto_flow": null,
            "grid_auto_rows": null,
            "grid_column": null,
            "grid_gap": null,
            "grid_row": null,
            "grid_template_areas": null,
            "grid_template_columns": null,
            "grid_template_rows": null,
            "height": null,
            "justify_content": null,
            "justify_items": null,
            "left": null,
            "margin": null,
            "max_height": null,
            "max_width": null,
            "min_height": null,
            "min_width": null,
            "object_fit": null,
            "object_position": null,
            "order": null,
            "overflow": null,
            "overflow_x": null,
            "overflow_y": null,
            "padding": null,
            "right": null,
            "top": null,
            "visibility": null,
            "width": null
          }
        },
        "f487efeffe4e40aa88cea6f96198b2f3": {
          "model_module": "@jupyter-widgets/controls",
          "model_name": "DescriptionStyleModel",
          "model_module_version": "1.5.0",
          "state": {
            "_model_module": "@jupyter-widgets/controls",
            "_model_module_version": "1.5.0",
            "_model_name": "DescriptionStyleModel",
            "_view_count": null,
            "_view_module": "@jupyter-widgets/base",
            "_view_module_version": "1.2.0",
            "_view_name": "StyleView",
            "description_width": ""
          }
        }
      }
    }
  },
  "cells": [
    {
      "cell_type": "markdown",
      "metadata": {
        "id": "view-in-github",
        "colab_type": "text"
      },
      "source": [
        "<a href=\"https://colab.research.google.com/github/rootkille/code-llama-finetune/blob/main/OpenHermes.ipynb\" target=\"_parent\"><img src=\"https://colab.research.google.com/assets/colab-badge.svg\" alt=\"Open In Colab\"/></a>"
      ]
    },
    {
      "cell_type": "code",
      "source": [
        "!pip -q install bitsandbytes flash_attn SentencePiece accelerate"
      ],
      "metadata": {
        "id": "6S-ztVXD_YGt"
      },
      "execution_count": 1,
      "outputs": []
    },
    {
      "cell_type": "code",
      "source": [
        "\n",
        "import torch\n",
        "from transformers import AutoTokenizer, AutoModelForCausalLM\n",
        "from transformers import LlamaTokenizer, LlamaForCausalLM, MistralForCausalLM\n",
        "import bitsandbytes, flash_attn"
      ],
      "metadata": {
        "id": "KCx9pH-N_fj1"
      },
      "execution_count": 2,
      "outputs": []
    },
    {
      "cell_type": "code",
      "execution_count": 3,
      "metadata": {
        "colab": {
          "base_uri": "https://localhost:8080/",
          "height": 555,
          "referenced_widgets": [
            "b8c9fa8df777471990999c161c6cdcbc",
            "40ed94fd534a475bb855a02dad671430",
            "ee10d2ef885540a380277aeb06f0c8ef",
            "d7905b465fb745d38f185ad756211096",
            "d34a4e2845f045bf926548170617e918",
            "8bd32598154c406ca6239927b09e6097",
            "c356dd310789456e97c1b93b71ee4873",
            "9e6f2ca2d09145c5a5bc86e95d9411ae",
            "3418665373a94acbafacea9c1586b4d3",
            "df9ade2702504cc5a913cdbc1ed779d0",
            "f487efeffe4e40aa88cea6f96198b2f3"
          ]
        },
        "id": "KxMp7sgp_UkZ",
        "outputId": "dba73181-9d43-4b76-d230-1b2f6c484340"
      },
      "outputs": [
        {
          "output_type": "stream",
          "name": "stderr",
          "text": [
            "Special tokens have been added in the vocabulary, make sure the associated word embeddings are fine-tuned or trained.\n"
          ]
        },
        {
          "output_type": "display_data",
          "data": {
            "text/plain": [
              "Loading checkpoint shards:   0%|          | 0/2 [00:00<?, ?it/s]"
            ],
            "application/vnd.jupyter.widget-view+json": {
              "version_major": 2,
              "version_minor": 0,
              "model_id": "b8c9fa8df777471990999c161c6cdcbc"
            }
          },
          "metadata": {}
        },
        {
          "output_type": "stream",
          "name": "stderr",
          "text": [
            "/usr/local/lib/python3.10/dist-packages/transformers/generation/utils.py:1473: UserWarning: You have modified the pretrained model configuration to control generation. This is a deprecated strategy to control generation and will be removed soon, in a future version. Please use and modify the model generation configuration (see https://huggingface.co/docs/transformers/generation_strategies#default-text-generation-configuration )\n",
            "  warnings.warn(\n",
            "The attention mask and the pad token id were not set. As a consequence, you may observe unexpected behavior. Please pass your input's `attention_mask` to obtain reliable results.\n",
            "Setting `pad_token_id` to `eos_token_id`:32000 for open-end generation.\n"
          ]
        },
        {
          "output_type": "stream",
          "name": "stdout",
          "text": [
            "<|im_start|>system\n",
            "You are a sentient, superintelligent artificial general intelligence, here to teach and assist me.<|im_end|>\n",
            "<|im_start|>user\n",
            "Write a short story about Goku discovering kirby has teamed up with Majin Buu to destroy the world.<|im_end|>\n",
            "<|im_start|>assistant\n"
          ]
        },
        {
          "output_type": "stream",
          "name": "stderr",
          "text": [
            "/usr/local/lib/python3.10/dist-packages/bitsandbytes/nn/modules.py:226: UserWarning: Input type into Linear4bit is torch.float16, but bnb_4bit_compute_type=torch.float32 (default). This will lead to slow inference or training speed.\n",
            "  warnings.warn(f'Input type into Linear4bit is torch.float16, but bnb_4bit_compute_type=torch.float32 (default). This will lead to slow inference or training speed.')\n"
          ]
        },
        {
          "output_type": "stream",
          "name": "stdout",
          "text": [
            "Response: \n",
            "Title: \"The Unlikely Alliance\"\n",
            "\n",
            "In the vast, colorful world of Earth, powerful forces clash as mighty warriors strive for power, justice, and harmony. The legendary Saiyan warrior, Goku, roamed the lands in search of new challenges that would test his ever-growing strength. One day, under a radiant blue sky, he encountered Kirby - a mysterious, pink-hued hero of Dreamland.\n",
            "\n",
            "They fought an intense battle and, much to Goku's surprise, Kirby matched him in power and speed, proving himself to be a formidable rival. During the battle, both combatants exchanged thoughts, and they discovered their shared nemesis: the destructive Majin Buu. As their minds intertwined, they uncovered a horrifying revelation - Kirby had indeed teamed up with the wicked Majin Buu!\n",
            "\n",
            "Witnessing this shocking alliance, Goku felt a surge of rage coursing through his veins. How could Kirby betray his own world and side with such an evil force? Determined not to let this partnership go unchallenged, Goku vowed to gather allies and put an end to the destruction of two worlds.\n",
            "\n",
            "Joining forces with Kirby's longtime friend, King Dedede, Goku ventured into Dreamland, seeking answers. There, they encountered familiar faces from Earth - Sonic the Hedgehog, Mario, and more. United, they learned that Majin Buu had corrupted Kirby with dark magic, forcing the innocent hero into serving his nefarious desires.\n",
            "\n",
            "Assembling the combined forces of Earth and Dreamland, Goku and his friends embarked on a perilous journey of epic proportions, bound by their unwavering determination to save Kirby from the evil grasp of Majin Buu. Through countless battles, they honed their skills to face the final showdown, where Kirby was restored to his former self and reunited with his friends.\n",
            "\n",
            "Together, they overcame the darkness that enveloped Majin Buu, and with a final blow, the threat was vanquished. In the aftermath, the heroes rejoiced at the return of peace and tranquility to their realms. However, Goku knew it was time to part ways with his newfound companions, as his adventures awaited further beyond.\n",
            "\n",
            "With heavy hearts, they bid each other farewell and embraced the knowledge that while their paths may diverge, their friendship would never be forgotten. And so, Goku and Kirby carried the lessons from their extraordinary union, leaving their mark on history and the worlds they called home.\n"
          ]
        }
      ],
      "source": [
        "# Code to inference Open Hermes 2.5 with HF Transformers\n",
        "# Requires pytorch, transformers, bitsandbytes, sentencepiece, protobuf, and flash-attn packages\n",
        "\n",
        "\n",
        "tokenizer = LlamaTokenizer.from_pretrained('teknium/OpenHermes-2.5-Mistral-7B', trust_remote_code=True)\n",
        "model = MistralForCausalLM.from_pretrained(\n",
        "    \"teknium/OpenHermes-2.5-Mistral-7B\",\n",
        "    torch_dtype=torch.float16,\n",
        "    device_map=\"auto\",#{'': 'cuda:0'},\n",
        "    load_in_8bit=False,\n",
        "    load_in_4bit=True,\n",
        "    use_flash_attention_2=False\n",
        ")\n",
        "\n",
        "prompts = [\n",
        "    \"\"\"<|im_start|>system\n",
        "You are a sentient, superintelligent artificial general intelligence, here to teach and assist me.<|im_end|>\n",
        "<|im_start|>user\n",
        "Write a short story about Goku discovering kirby has teamed up with Majin Buu to destroy the world.<|im_end|>\n",
        "<|im_start|>assistant\"\"\",\n",
        "    ]\n",
        "\n",
        "for chat in prompts:\n",
        "    print(chat)\n",
        "    input_ids = tokenizer(chat, return_tensors=\"pt\").input_ids.to(\"cuda\")\n",
        "    generated_ids = model.generate(input_ids, max_new_tokens=750, temperature=0.8, repetition_penalty=1.1, do_sample=True, eos_token_id=tokenizer.eos_token_id)\n",
        "    response = tokenizer.decode(generated_ids[0][input_ids.shape[-1]:], skip_special_tokens=True, clean_up_tokenization_space=True)\n",
        "    print(f\"Response: {response}\")"
      ]
    }
  ]
}