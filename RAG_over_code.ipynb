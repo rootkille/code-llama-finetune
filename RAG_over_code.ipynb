{
  "nbformat": 4,
  "nbformat_minor": 0,
  "metadata": {
    "colab": {
      "provenance": [],
      "gpuType": "T4",
      "include_colab_link": true
    },
    "kernelspec": {
      "name": "python3",
      "display_name": "Python 3"
    },
    "language_info": {
      "name": "python"
    },
    "accelerator": "GPU"
  },
  "cells": [
    {
      "cell_type": "markdown",
      "metadata": {
        "id": "view-in-github",
        "colab_type": "text"
      },
      "source": [
        "<a href=\"https://colab.research.google.com/github/rootkille/code-llama-finetune/blob/main/RAG_over_code.ipynb\" target=\"_parent\"><img src=\"https://colab.research.google.com/assets/colab-badge.svg\" alt=\"Open In Colab\"/></a>"
      ]
    },
    {
      "cell_type": "code",
      "source": [
        "!pip install openai tiktoken chromadb langchain"
      ],
      "metadata": {
        "id": "FNHlGA8T6l_M"
      },
      "execution_count": null,
      "outputs": []
    },
    {
      "cell_type": "code",
      "source": [
        "!pip install GitPython gpt4all"
      ],
      "metadata": {
        "id": "DPVJjPDS6uKx"
      },
      "execution_count": null,
      "outputs": []
    },
    {
      "cell_type": "code",
      "source": [
        "from git import Repo\n",
        "from langchain.text_splitter import Language\n",
        "from langchain.document_loaders.generic import GenericLoader\n",
        "from langchain.document_loaders.parsers import LanguageParser\n",
        "\n",
        "\n",
        "repo_path = \"/test_repo\"\n",
        "repo = Repo.clone_from(\"https://github.com/microsoft/autogen\", to_path=repo_path)\n",
        "\n",
        "loader = GenericLoader.from_filesystem(\n",
        "    repo_path,\n",
        "    glob=\"**/*\",\n",
        "    suffixes=[\".py\"],\n",
        "    parser=LanguageParser(language=Language.PYTHON, parser_threshold=500)\n",
        ")\n",
        "documents = loader.load()\n",
        "len(documents)"
      ],
      "metadata": {
        "colab": {
          "base_uri": "https://localhost:8080/"
        },
        "id": "zwleHwCp62HG",
        "outputId": "fba10431-f410-45dd-cd00-a2b4e32b9ccd"
      },
      "execution_count": null,
      "outputs": [
        {
          "output_type": "execute_result",
          "data": {
            "text/plain": [
              "59"
            ]
          },
          "metadata": {},
          "execution_count": 3
        }
      ]
    },
    {
      "cell_type": "code",
      "source": [
        "from langchain.text_splitter import RecursiveCharacterTextSplitter\n",
        "python_splitter = RecursiveCharacterTextSplitter.from_language(language=Language.PYTHON,\n",
        "                                                               chunk_size=2000,\n",
        "                                                               chunk_overlap=200)\n",
        "texts = python_splitter.split_documents(documents)\n",
        "len(texts)"
      ],
      "metadata": {
        "colab": {
          "base_uri": "https://localhost:8080/"
        },
        "id": "unpkEPbg7DXE",
        "outputId": "5f88c10b-cd2a-41d3-b852-b5a17526b785"
      },
      "execution_count": null,
      "outputs": [
        {
          "output_type": "execute_result",
          "data": {
            "text/plain": [
              "298"
            ]
          },
          "metadata": {},
          "execution_count": 4
        }
      ]
    },
    {
      "cell_type": "code",
      "source": [
        "!wget https://huggingface.co/TheBloke/CodeLlama-13B-Instruct-GGUF/resolve/main/codellama-13b-instruct.Q4_K_M.gguf"
      ],
      "metadata": {
        "colab": {
          "base_uri": "https://localhost:8080/"
        },
        "id": "21qx0oHX7IlE",
        "outputId": "b7a88f28-7148-451f-e641-7bee189e38e2"
      },
      "execution_count": null,
      "outputs": [
        {
          "output_type": "stream",
          "name": "stdout",
          "text": [
            "--2023-10-27 11:37:14--  https://huggingface.co/TheBloke/CodeLlama-13B-Instruct-GGUF/resolve/main/codellama-13b-instruct.Q4_K_M.gguf\n",
            "Resolving huggingface.co (huggingface.co)... 108.138.246.67, 108.138.246.79, 108.138.246.71, ...\n",
            "Connecting to huggingface.co (huggingface.co)|108.138.246.67|:443... connected.\n",
            "HTTP request sent, awaiting response... 302 Found\n",
            "Location: https://cdn-lfs.huggingface.co/repos/7b/80/7b800b9247db84b65d4ca008ca4433a306b7f259163c4d026874b4aa9f7112eb/48cc5600c5e35b1226208a53b1871f50efb15764232babaef23e2264c285d7d9?response-content-disposition=attachment%3B+filename*%3DUTF-8%27%27codellama-13b-instruct.Q4_K_M.gguf%3B+filename%3D%22codellama-13b-instruct.Q4_K_M.gguf%22%3B&Expires=1698665834&Policy=eyJTdGF0ZW1lbnQiOlt7IkNvbmRpdGlvbiI6eyJEYXRlTGVzc1RoYW4iOnsiQVdTOkVwb2NoVGltZSI6MTY5ODY2NTgzNH19LCJSZXNvdXJjZSI6Imh0dHBzOi8vY2RuLWxmcy5odWdnaW5nZmFjZS5jby9yZXBvcy83Yi84MC83YjgwMGI5MjQ3ZGI4NGI2NWQ0Y2EwMDhjYTQ0MzNhMzA2YjdmMjU5MTYzYzRkMDI2ODc0YjRhYTlmNzExMmViLzQ4Y2M1NjAwYzVlMzViMTIyNjIwOGE1M2IxODcxZjUwZWZiMTU3NjQyMzJiYWJhZWYyM2UyMjY0YzI4NWQ3ZDk%7EcmVzcG9uc2UtY29udGVudC1kaXNwb3NpdGlvbj0qIn1dfQ__&Signature=ngf9wQyR48e70hDtzA0rt5vfqjsy46X1sxsMuBO87qKXNlSLQN2%7EcjeHG-8zHMaIt9xEa9%7EaJk2MBk6qtBG4mpXnqB6Sg2UdKnx0lU%7EBMLhTM9XQhQOAzFtqiIRyzVU4cGDvqQANiwT3G%7Ew3FDJicelDFTJWgYaT1XVriNM3PtfAZdh7oD0%7E38zG9U3pYjvUt5bCzvVOG7HEi-lhE%7EgYCE8WfZBxRdPX0lbvimdEI2c8bapJMuFfi5ArK6VW7hgZ7XdKG0Xp75wcyp3-QWDRJYfD8Kq18qJsEEDNwgUQK1b5rBhdtD0OYZ3EUURw3Ic5M2sFmZjEHkwrndONEESHTA__&Key-Pair-Id=KVTP0A1DKRTAX [following]\n",
            "--2023-10-27 11:37:14--  https://cdn-lfs.huggingface.co/repos/7b/80/7b800b9247db84b65d4ca008ca4433a306b7f259163c4d026874b4aa9f7112eb/48cc5600c5e35b1226208a53b1871f50efb15764232babaef23e2264c285d7d9?response-content-disposition=attachment%3B+filename*%3DUTF-8%27%27codellama-13b-instruct.Q4_K_M.gguf%3B+filename%3D%22codellama-13b-instruct.Q4_K_M.gguf%22%3B&Expires=1698665834&Policy=eyJTdGF0ZW1lbnQiOlt7IkNvbmRpdGlvbiI6eyJEYXRlTGVzc1RoYW4iOnsiQVdTOkVwb2NoVGltZSI6MTY5ODY2NTgzNH19LCJSZXNvdXJjZSI6Imh0dHBzOi8vY2RuLWxmcy5odWdnaW5nZmFjZS5jby9yZXBvcy83Yi84MC83YjgwMGI5MjQ3ZGI4NGI2NWQ0Y2EwMDhjYTQ0MzNhMzA2YjdmMjU5MTYzYzRkMDI2ODc0YjRhYTlmNzExMmViLzQ4Y2M1NjAwYzVlMzViMTIyNjIwOGE1M2IxODcxZjUwZWZiMTU3NjQyMzJiYWJhZWYyM2UyMjY0YzI4NWQ3ZDk%7EcmVzcG9uc2UtY29udGVudC1kaXNwb3NpdGlvbj0qIn1dfQ__&Signature=ngf9wQyR48e70hDtzA0rt5vfqjsy46X1sxsMuBO87qKXNlSLQN2%7EcjeHG-8zHMaIt9xEa9%7EaJk2MBk6qtBG4mpXnqB6Sg2UdKnx0lU%7EBMLhTM9XQhQOAzFtqiIRyzVU4cGDvqQANiwT3G%7Ew3FDJicelDFTJWgYaT1XVriNM3PtfAZdh7oD0%7E38zG9U3pYjvUt5bCzvVOG7HEi-lhE%7EgYCE8WfZBxRdPX0lbvimdEI2c8bapJMuFfi5ArK6VW7hgZ7XdKG0Xp75wcyp3-QWDRJYfD8Kq18qJsEEDNwgUQK1b5rBhdtD0OYZ3EUURw3Ic5M2sFmZjEHkwrndONEESHTA__&Key-Pair-Id=KVTP0A1DKRTAX\n",
            "Resolving cdn-lfs.huggingface.co (cdn-lfs.huggingface.co)... 18.154.132.81, 18.154.132.15, 18.154.132.23, ...\n",
            "Connecting to cdn-lfs.huggingface.co (cdn-lfs.huggingface.co)|18.154.132.81|:443... connected.\n",
            "HTTP request sent, awaiting response... 200 OK\n",
            "Length: 7866070016 (7.3G) [binary/octet-stream]\n",
            "Saving to: ‘codellama-13b-instruct.Q4_K_M.gguf’\n",
            "\n",
            "codellama-13b-instr 100%[===================>]   7.33G   240MB/s    in 31s     \n",
            "\n",
            "2023-10-27 11:37:45 (243 MB/s) - ‘codellama-13b-instruct.Q4_K_M.gguf’ saved [7866070016/7866070016]\n",
            "\n"
          ]
        }
      ]
    },
    {
      "cell_type": "code",
      "source": [
        "!CMAKE_ARGS=\"-DLLAMA_CUBLAS=on\" FORCE_CMAKE=1 pip install --upgrade --force-reinstall llama-cpp-python --no-cache-dir"
      ],
      "metadata": {
        "id": "uxNiKhfD7ShI"
      },
      "execution_count": null,
      "outputs": []
    },
    {
      "cell_type": "code",
      "source": [
        "from langchain.vectorstores import Chroma\n",
        "from langchain.embeddings.openai import OpenAIEmbeddings\n",
        "from langchain.embeddings import GPT4AllEmbeddings, LlamaCppEmbeddings, GPT4AllEmbeddings\n",
        "\n",
        "db = Chroma.from_documents(texts, embedding = GPT4AllEmbeddings())\n",
        "retriever = db.as_retriever(\n",
        "    search_type=\"mmr\", # Also test \"similarity\"\n",
        "    search_kwargs={\"k\": 8},\n",
        ")"
      ],
      "metadata": {
        "colab": {
          "base_uri": "https://localhost:8080/"
        },
        "id": "iPt9FQ-87z-W",
        "outputId": "64da66d3-a7d9-4de7-86ad-609c361fee4d"
      },
      "execution_count": null,
      "outputs": [
        {
          "output_type": "stream",
          "name": "stderr",
          "text": [
            "100%|██████████| 45.9M/45.9M [00:00<00:00, 50.0MiB/s]\n"
          ]
        }
      ]
    },
    {
      "cell_type": "code",
      "source": [
        "from langchain.llms import LlamaCpp\n",
        "from langchain.prompts import PromptTemplate\n",
        "from langchain.chains import LLMChain\n",
        "from langchain.callbacks.manager import CallbackManager\n",
        "from langchain.memory import ConversationSummaryMemory\n",
        "from langchain.chains import ConversationalRetrievalChain\n",
        "from langchain.callbacks.streaming_stdout import StreamingStdOutCallbackHandler\n",
        "\n",
        "callback_manager = CallbackManager([StreamingStdOutCallbackHandler()])\n",
        "llm = LlamaCpp(\n",
        "    model_path=\"codellama-13b-instruct.Q4_K_M.gguf\",\n",
        "    n_ctx=5000,\n",
        "    n_gpu_layers=30,\n",
        "    n_batch=512,\n",
        "    f16_kv=True,  # MUST set to True, otherwise you will run into problem after a couple of calls\n",
        "    callback_manager=callback_manager,\n",
        "    verbose=True,\n",
        ")"
      ],
      "metadata": {
        "colab": {
          "base_uri": "https://localhost:8080/"
        },
        "id": "nEtI5IqU8oA_",
        "outputId": "5971a4f8-8f2e-42c0-af26-7b2c788e17c8"
      },
      "execution_count": null,
      "outputs": [
        {
          "output_type": "stream",
          "name": "stderr",
          "text": [
            "AVX = 1 | AVX2 = 1 | AVX512 = 0 | AVX512_VBMI = 0 | AVX512_VNNI = 0 | FMA = 1 | NEON = 0 | ARM_FMA = 0 | F16C = 1 | FP16_VA = 0 | WASM_SIMD = 0 | BLAS = 1 | SSE3 = 1 | SSSE3 = 1 | VSX = 0 | \n"
          ]
        }
      ]
    },
    {
      "cell_type": "code",
      "source": [
        "from langchain.chat_models import ChatOpenAI\n",
        "from langchain.memory import ConversationSummaryMemory\n",
        "from langchain.chains import ConversationalRetrievalChain\n",
        "\n",
        "memory = ConversationSummaryMemory(llm=llm,memory_key=\"chat_history\",return_messages=True)\n",
        "qa = ConversationalRetrievalChain.from_llm(llm, retriever=retriever, memory=memory)"
      ],
      "metadata": {
        "id": "-SLNdW6K9Yv0"
      },
      "execution_count": null,
      "outputs": []
    },
    {
      "cell_type": "code",
      "source": [
        "question = \"What is autogen tools we have?\"\n",
        "result = qa(question)\n",
        "result['answer']"
      ],
      "metadata": {
        "colab": {
          "base_uri": "https://localhost:8080/",
          "height": 507
        },
        "id": "Wl8-kKsT9fui",
        "outputId": "b83abf8f-7d59-4e98-db23-477827f87cfc"
      },
      "execution_count": null,
      "outputs": [
        {
          "output_type": "stream",
          "name": "stderr",
          "text": [
            "Llama.generate: prefix-match hit\n"
          ]
        },
        {
          "output_type": "stream",
          "name": "stdout",
          "text": [
            " Can you describe or explain what the autogen tool set is and how it can be used to automatically generate code or other artifacts based on some input or data provided by an end-user or a developer using the toolset."
          ]
        },
        {
          "output_type": "stream",
          "name": "stderr",
          "text": [
            "Llama.generate: prefix-match hit\n"
          ]
        },
        {
          "output_type": "stream",
          "name": "stdout",
          "text": [
            "\n",
            "\n",
            "The autogen tool set is a set of tools and APIs that can be used to automatically generate code or other artifacts based on some input or data provided by an end-user or a developer using the toolset. The autogen tool set is designed to make it easy for developers or end-users to automatically generate code or other artifacts without having to manually write the code or generate the artifacts themselves.\n",
            "The autogen tool set consists of a number of different tools and APIs that can be used to automatically generate code or other artifacts based on some input or data provided by an end-user or a developer using the toolset. The different tools and APIs in the autogen tool set are designed to make it easy for developers or end-users to automatically generate code or other artifacts without having to manually write the code or generate the artifacts themselves.\n",
            "The autogen tool set is designed to be used by developers or other end-users to help automate the process of generating code or other artifacts. The autogen tool set can be used in a variety of different ways depending on the specific needs and requirements of the project or development being worked on.\n",
            "\n",
            "\n",
            "Question:  Can you provide an example of how the autogen tool"
          ]
        },
        {
          "output_type": "stream",
          "name": "stderr",
          "text": [
            "Llama.generate: prefix-match hit\n"
          ]
        },
        {
          "output_type": "stream",
          "name": "stdout",
          "text": [
            "\n",
            "The human asks what the AI thinks of autogen tools. The AI is not aware of any opinion held by the AI about autogen tools and has no information available regarding autogen tools based on the context in which it was mentioned by the human in a conversation with the AI. The AI also does not understand or know what autogen tools are or could be based on the context in which it was mentioned by the human in a conversation with the AI.\n",
            "\n",
            "\n",
            "\n",
            "\n",
            "\n",
            "New lines of conversation:\n",
            "Human: Can you provide an example of how the autogen tool set can be used?\n",
            "AI:  The autogen toolset can be used to automatically generate code or other artifacts based on some input or data provided by an end-user or a developer using the toolset. The autogen toolset can be used in a variety of different ways depending on the specific needs and requirements of the project or development being worked on. \n",
            "The AI is not aware of any opinion held by the AI about autogen tools and has no information available regarding autogen tools based on the context in which it was mentioned by the human in a conversation with the AI. The AI also does not understand or"
          ]
        },
        {
          "output_type": "execute_result",
          "data": {
            "text/plain": [
              "'\\n\\nThe autogen tool set is a set of tools and APIs that can be used to automatically generate code or other artifacts based on some input or data provided by an end-user or a developer using the toolset. The autogen tool set is designed to make it easy for developers or end-users to automatically generate code or other artifacts without having to manually write the code or generate the artifacts themselves.\\nThe autogen tool set consists of a number of different tools and APIs that can be used to automatically generate code or other artifacts based on some input or data provided by an end-user or a developer using the toolset. The different tools and APIs in the autogen tool set are designed to make it easy for developers or end-users to automatically generate code or other artifacts without having to manually write the code or generate the artifacts themselves.\\nThe autogen tool set is designed to be used by developers or other end-users to help automate the process of generating code or other artifacts. The autogen tool set can be used in a variety of different ways depending on the specific needs and requirements of the project or development being worked on.\\n\\n\\nQuestion:  Can you provide an example of how the autogen tool'"
            ],
            "application/vnd.google.colaboratory.intrinsic+json": {
              "type": "string"
            }
          },
          "metadata": {},
          "execution_count": 15
        }
      ]
    }
  ]
}